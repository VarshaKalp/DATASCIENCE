{
 "cells": [
  {
   "cell_type": "code",
   "execution_count": 5,
   "metadata": {},
   "outputs": [],
   "source": [
    "\n",
    "#import statements of required libraries\n",
    "import numpy as np\n",
    "import pandas as pd\n",
    "import matplotlib.pyplot as plt\n",
    "import seaborn as sns\n",
    "%matplotlib inline\n"
   ]
  },
  {
   "cell_type": "code",
   "execution_count": 6,
   "metadata": {},
   "outputs": [],
   "source": [
    "import warnings\n",
    "warnings.filterwarnings(\"ignore\")"
   ]
  },
  {
   "cell_type": "code",
   "execution_count": 8,
   "metadata": {},
   "outputs": [],
   "source": [
    "\n",
    "import warnings\n",
    "warnings.filterwarnings(\"ignore\")"
   ]
  },
  {
   "cell_type": "code",
   "execution_count": null,
   "metadata": {},
   "outputs": [],
   "source": [
    "# 1 Creating a new dataset and loading the dataset\n",
    "movies_df = pd.read_csv('C:\\\\Users\\\\varsha\\\\Downloads\\\\Data science with Python 1\\\\Da\n",
    "ratings_df = pd.read_csv(\"C:\\\\Users\\\\varsha\\\\Downloads\\\\Data science with Python 1\\\\D\n",
    "users_df = pd.read_csv(\"C:\\\\Users\\\\varsha\\\\Downloads\\\\Data science with Python 1\\\\Dat"
   ]
  },
  {
   "cell_type": "code",
   "execution_count": null,
   "metadata": {},
   "outputs": [],
   "source": [
    "#Displaying the dataset for verifying the coloumns are created\n",
    "print(movies_df)\n",
    "print(ratings_df)\n",
    "print(users_df)"
   ]
  },
  {
   "cell_type": "code",
   "execution_count": null,
   "metadata": {},
   "outputs": [],
   "source": [
    "#1(b) Merging of the data set\n",
    "mov_rat_df = pd.merge(movies_df,ratings_df, on='MovieId')\n",
    "finalData_df = pd.merge(mov_rat_df,users_df, on='UserId')\n",
    "finalData_df.head()\n"
   ]
  },
  {
   "cell_type": "code",
   "execution_count": null,
   "metadata": {},
   "outputs": [],
   "source": [
    "#2(a) Visusliztion of User Age Distribution:\n",
    "plt.hist(users_df['Age'])\n"
   ]
  },
  {
   "cell_type": "code",
   "execution_count": null,
   "metadata": {},
   "outputs": [],
   "source": [
    "#2(b) Visusliztion of User rating of the movie “Toy Story”:\n",
    "movie_title_df = finalData_df.Title.unique()\n",
    "toyStory_movie = []\n",
    "for i in movie_title_df:\n",
    " if i.startswith(\"Toy\"):\n",
    " toyStory_movie.append(i)\n",
    "\n",
    "toyStory_movie \n"
   ]
  },
  {
   "cell_type": "code",
   "execution_count": null,
   "metadata": {},
   "outputs": [],
   "source": [
    "#Graph plotting for above data set by rating group\n",
    "toy_df = finalData_df[finalData_df['Title'] == 'Toy Story (1995)']\n",
    "print(toy_df.groupby('Rating')['UserId'].count())\n",
    "toy_df.groupby('Rating')['UserId'].count().plot(kind='barh')"
   ]
  },
  {
   "cell_type": "code",
   "execution_count": null,
   "metadata": {},
   "outputs": [],
   "source": [
    "#Graph plotting for above data set by age group\n",
    "print(toy_df.groupby('Age')['UserId'].count())\n",
    "toy_df.groupby('Age')['UserId'].count().plot(kind='barh')"
   ]
  },
  {
   "cell_type": "code",
   "execution_count": null,
   "metadata": {},
   "outputs": [],
   "source": [
    "#2(d) Visusliztion of ratings for all the movies reviewed by for a particular user o\n",
    "userid_df = finalData_df[finalData_df['UserId']==2696]\n",
    "userid_df"
   ]
  },
  {
   "cell_type": "code",
   "execution_count": null,
   "metadata": {},
   "outputs": [],
   "source": [
    "#Graph plotting for above data set\n",
    "print(userid_df.groupby('Rating')['UserId'].count())\n",
    "userid_df.groupby('Rating')['UserId'].count().plot(kind='barh')"
   ]
  },
  {
   "cell_type": "code",
   "execution_count": null,
   "metadata": {},
   "outputs": [],
   "source": [
    "#3 Visusliztion of the unique value for genres\n",
    "finalData_df['Genres'].unique()\n"
   ]
  },
  {
   "cell_type": "code",
   "execution_count": null,
   "metadata": {},
   "outputs": [],
   "source": [
    "#3(b) Visusliztion of the unique value for Ratings\n",
    "finalData_df['Rating'].unique()"
   ]
  },
  {
   "cell_type": "code",
   "execution_count": null,
   "metadata": {},
   "outputs": [],
   "source": [
    "\n",
    "#3(b) Visusliztion of the unique value for Ratings\n",
    "finalData_df['Rating'].unique()\n",
    "\n"
   ]
  },
  {
   "cell_type": "code",
   "execution_count": null,
   "metadata": {},
   "outputs": [],
   "source": [
    "#4 Visualiztion of overall rating by users in different graphs:\n",
    "print(finalData_df.groupby('Rating')['UserId'].count())\n",
    "finalData_df.groupby('Rating')['UserId'].count().plot(kind='barh')"
   ]
  },
  {
   "cell_type": "code",
   "execution_count": null,
   "metadata": {},
   "outputs": [],
   "source": [
    "finalData_df.groupby('Rating')['UserId'].count().plot(kind='pie')"
   ]
  },
  {
   "cell_type": "code",
   "execution_count": null,
   "metadata": {},
   "outputs": [],
   "source": [
    "# 5 Histogram for movie, age and occupation:\n",
    "#Movie:\n",
    "plt.hist(finalData_df['MovieId'], edgecolor='k')"
   ]
  },
  {
   "cell_type": "code",
   "execution_count": null,
   "metadata": {},
   "outputs": [],
   "source": [
    "#Age:\n",
    "plt.hist(finalData_df['Age'], color='y', edgecolor='k')"
   ]
  },
  {
   "cell_type": "code",
   "execution_count": null,
   "metadata": {},
   "outputs": [],
   "source": [
    "#Occupation:\n",
    "plt.hist(finalData_df['Occupation'], color='c', edgecolor='k')"
   ]
  },
  {
   "cell_type": "code",
   "execution_count": null,
   "metadata": {},
   "outputs": [],
   "source": [
    "#6 Feature Engineering: Training of KNN model\n",
    "feature_df = finalData_df.iloc[:500,[0,7,8]].values\n",
    "target_df = finalData_df.iloc[:500,[4]].values.reshape(-1,1)"
   ]
  },
  {
   "cell_type": "code",
   "execution_count": null,
   "metadata": {},
   "outputs": [],
   "source": [
    "feature_df"
   ]
  },
  {
   "cell_type": "code",
   "execution_count": null,
   "metadata": {},
   "outputs": [],
   "source": [
    "# 7 Train and Test of the data set by split\n",
    "from sklearn.model_selection import train_test_split\n",
    "x_train, x_test, y_train, y_test = train_test_split(feature_df, target_df, test_size"
   ]
  },
  {
   "cell_type": "code",
   "execution_count": null,
   "metadata": {},
   "outputs": [],
   "source": [
    "# 8 Create a logistic regression model using the training set\n",
    "\n",
    "from sklearn.linear_model import LinearRegression\n",
    "linreg = LinearRegression()\n",
    "linreg.fit(x_train, y_train)"
   ]
  },
  {
   "cell_type": "code",
   "execution_count": null,
   "metadata": {},
   "outputs": [],
   "source": [
    "# Make predictions using the testing set\n",
    "y_pred = linreg.predict(x_test)\n",
    "y_pred"
   ]
  },
  {
   "cell_type": "code",
   "execution_count": null,
   "metadata": {},
   "outputs": [],
   "source": [
    "from sklearn.neighbors import KNeighborsClassifier\n",
    "model = KNeighborsClassifier(n_neighbors=27)"
   ]
  },
  {
   "cell_type": "code",
   "execution_count": null,
   "metadata": {},
   "outputs": [],
   "source": [
    "model.fit(x_train,y_train.ravel())"
   ]
  },
  {
   "cell_type": "code",
   "execution_count": null,
   "metadata": {},
   "outputs": [],
   "source": [
    "# Train the score\n",
    "print(model.score(x_train,y_train))"
   ]
  },
  {
   "cell_type": "code",
   "execution_count": null,
   "metadata": {},
   "outputs": [],
   "source": [
    "# Test the score:\n",
    "print(model.score(x_test,y_test))"
   ]
  },
  {
   "cell_type": "code",
   "execution_count": null,
   "metadata": {},
   "outputs": [],
   "source": [
    "#Test score is greater than Train score\n",
    "#Conclusion : 'Generalized Model'"
   ]
  },
  {
   "cell_type": "code",
   "execution_count": null,
   "metadata": {},
   "outputs": [],
   "source": [
    "#lab -i cannot restart the kurnel while submitting the source ,my lab is down ."
   ]
  }
 ],
 "metadata": {
  "kernelspec": {
   "display_name": "Python 3",
   "language": "python",
   "name": "python3"
  },
  "language_info": {
   "codemirror_mode": {
    "name": "ipython",
    "version": 3
   },
   "file_extension": ".py",
   "mimetype": "text/x-python",
   "name": "python",
   "nbconvert_exporter": "python",
   "pygments_lexer": "ipython3",
   "version": "3.7.6"
  }
 },
 "nbformat": 4,
 "nbformat_minor": 4
}
